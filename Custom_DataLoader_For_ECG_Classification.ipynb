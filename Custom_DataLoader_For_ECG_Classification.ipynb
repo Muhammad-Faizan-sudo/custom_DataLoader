{
  "cells": [
    {
      "cell_type": "markdown",
      "source": [
        "##Import Libaries"
      ],
      "metadata": {
        "id": "u6r_DuO4FLX0"
      }
    },
    {
      "cell_type": "code",
      "execution_count": null,
      "metadata": {
        "id": "Kw_2o8w5LpEF",
        "colab": {
          "base_uri": "https://localhost:8080/"
        },
        "outputId": "a9ec4d49-f44d-43ba-84d8-a4f0b6c46cb6"
      },
      "outputs": [
        {
          "output_type": "stream",
          "name": "stdout",
          "text": [
            "Drive already mounted at /content/drive; to attempt to forcibly remount, call drive.mount(\"/content/drive\", force_remount=True).\n"
          ]
        }
      ],
      "source": [
        "from google.colab import drive\n",
        "drive.mount('/content/drive')\n",
        "\n",
        "from skimage.io import imread\n",
        "from tensorflow.keras import layers, Sequential\n",
        "from skimage.transform import resize\n",
        "import numpy as np\n",
        "import math\n",
        "import tensorflow as tf\n",
        "from tensorflow.keras.utils import Sequence\n",
        "from tensorflow.keras import layers, models\n",
        "import os\n",
        "import matplotlib.pyplot as plt\n"
      ]
    },
    {
      "cell_type": "markdown",
      "source": [
        "\n",
        "##Global Variabels"
      ],
      "metadata": {
        "id": "r5WSX1crFQx2"
      }
    },
    {
      "cell_type": "code",
      "execution_count": null,
      "metadata": {
        "id": "pmbq8F4iLVZy"
      },
      "outputs": [],
      "source": [
        "IMG_SIZE = 500\n",
        "# DATASET_PATH = \"/content/drive/MyDrive/ECG_Dataset/ECG_Updated/\"\n",
        "DATASET_PATH = \"/content/drive/MyDrive/ECG_Dataset/Dataset/\""
      ]
    },
    {
      "cell_type": "code",
      "execution_count": null,
      "metadata": {
        "id": "e1ez4MvyL48Z"
      },
      "outputs": [],
      "source": [
        "\n",
        "# class ECG_Classification(Sequence):\n",
        "#     def __init__(self, x_set, y_set, batch_size):\n",
        "#         self.x, self.y = x_set, y_set\n",
        "#         self.batch_size = batch_size\n",
        "#         # print(self.x, self.y)\n",
        "\n",
        "#     def __len__(self):\n",
        "#         return math.ceil(len(self.x) / self.batch_size)\n",
        "\n",
        "#     def __getitem__(self, idx):\n",
        "#         batch_x = self.x[idx * self.batch_size:(idx + 1) *\n",
        "#         self.batch_size]\n",
        "#         batch_y = self.y[idx * self.batch_size:(idx + 1) *\n",
        "#         self.batch_size]\n",
        "#         return np.array([\n",
        "#             resize(imread(file_name), (IMG_SIZE, IMG_SIZE))\n",
        "#                for file_name in batch_x]), np.array(batch_y)\n",
        "\n",
        "               "
      ]
    },
    {
      "cell_type": "markdown",
      "source": [
        "##Read Path of the Images and Respective Labels"
      ],
      "metadata": {
        "id": "7KuZ22n3htxW"
      }
    },
    {
      "cell_type": "code",
      "execution_count": null,
      "metadata": {
        "id": "0mxn5UfHMBaZ"
      },
      "outputs": [],
      "source": [
        "\n",
        "def image_names_and_class_provider(DATASET_PATH):\n",
        "    main_path = os.listdir(DATASET_PATH)\n",
        "    img_path = []\n",
        "    classes = []\n",
        "    class_ = 0\n",
        "    for dataset_folder in main_path:\n",
        "        dataset_path = DATASET_PATH + \"/\" + dataset_folder\n",
        "        images = os.listdir(dataset_path)\n",
        "        for image in images:\n",
        "            img_path.append(DATASET_PATH + dataset_folder + \"/\" + image)\n",
        "            classes.append(class_) \n",
        "        class_ = class_ + 1\n",
        "    return np.array(img_path), np.array(classes)\n",
        "\n",
        "    "
      ]
    },
    {
      "cell_type": "code",
      "execution_count": null,
      "metadata": {
        "id": "ilzV89eGMLPR",
        "colab": {
          "base_uri": "https://localhost:8080/"
        },
        "outputId": "7156f808-e0a1-4790-fc04-198b94e0da55"
      },
      "outputs": [
        {
          "output_type": "stream",
          "name": "stdout",
          "text": [
            "/content/drive/MyDrive/ECG_Dataset/Dataset/abnormal heart beats/HB (509).jpg\n",
            "[0 1]\n",
            "<class 'numpy.ndarray'>\n"
          ]
        }
      ],
      "source": [
        "\n",
        "IMAGES, LABELS = image_names_and_class_provider(DATASET_PATH)\n",
        "print(IMAGES[0])\n",
        "print(np.unique(LABELS))\n",
        "print(type(LABELS))\n"
      ]
    },
    {
      "cell_type": "markdown",
      "source": [
        "##Shuffling and train-test splitting\n"
      ],
      "metadata": {
        "id": "41Lz4mGoh6Mi"
      }
    },
    {
      "cell_type": "code",
      "source": [
        "from sklearn.model_selection import train_test_split\n",
        "X_train, X_test, y_train, y_test = train_test_split(IMAGES, LABELS, \n",
        "                                                    test_size=0.2, random_state=42,\n",
        "                                                    shuffle=True)"
      ],
      "metadata": {
        "id": "-jdMHcg5ikln"
      },
      "execution_count": null,
      "outputs": []
    },
    {
      "cell_type": "code",
      "source": [
        "print('X_train: ',len(X_train))\n",
        "print('X_test: ',len(X_test))\n",
        "print('y_train: ',len(y_train))\n",
        "print('y_test: ',len(y_test))\n"
      ],
      "metadata": {
        "id": "2IDa5paD5bd-",
        "colab": {
          "base_uri": "https://localhost:8080/"
        },
        "outputId": "9afbd604-769f-4500-df19-40fb5b26a6cd"
      },
      "execution_count": null,
      "outputs": [
        {
          "output_type": "stream",
          "name": "stdout",
          "text": [
            "X_train:  1124\n",
            "X_test:  281\n",
            "y_train:  1124\n",
            "y_test:  281\n"
          ]
        }
      ]
    },
    {
      "cell_type": "code",
      "source": [
        "# print(y_train[:100])\n",
        "\n",
        "#len of ones in y_train \n",
        "print(\"len of ones in y_train: \",len(y_train[y_train == 1]))\n",
        "#len of zeros in y_train \n",
        "print(\"len of zeros in y_train: \",len(y_train[y_train == 0]))\n"
      ],
      "metadata": {
        "colab": {
          "base_uri": "https://localhost:8080/"
        },
        "id": "ieT6zbxWrhQz",
        "outputId": "39e3921e-397a-4b13-f2d5-68b8c7636332"
      },
      "execution_count": null,
      "outputs": [
        {
          "output_type": "stream",
          "name": "stdout",
          "text": [
            "len of ones in y_train:  682\n",
            "len of zeros in y_train:  442\n"
          ]
        }
      ]
    },
    {
      "cell_type": "markdown",
      "source": [
        "##Custom Dataset Generator"
      ],
      "metadata": {
        "id": "b4DuhxoNTYrQ"
      }
    },
    {
      "cell_type": "code",
      "source": [
        "class ECG_Classification(Sequence):\n",
        "    def __init__(self, x_set, y_set, batch_size):\n",
        "      self.x, self.y = x_set, y_set\n",
        "      self.batch_size = batch_size\n",
        "      # print(self.x, self.y)\n",
        "\n",
        "    def __len__(self):      \n",
        "      return math.ceil(len(self.x) / self.batch_size)\n",
        "\n",
        "    \n",
        "    def __get_input(self, path):\n",
        "      image = tf.keras.preprocessing.image.load_img(path)\n",
        "      image_arr = tf.keras.preprocessing.image.img_to_array(image)\n",
        "      image_arr = tf.image.resize(image_arr,(IMG_SIZE, IMG_SIZE)).numpy()\n",
        "      return image_arr/255.\n",
        "\n",
        "    def __getitem__(self, idx):\n",
        "      # print(\"index: \", idx)\n",
        "      batch_x = self.x[idx * self.batch_size:(idx + 1) *\n",
        "      self.batch_size]\n",
        "      batch_y = self.y[idx * self.batch_size:(idx + 1) *\n",
        "      self.batch_size]\n",
        "      \n",
        "      return np.array(\n",
        "          [self.__get_input(file_name) for file_name in batch_x]), np.array(batch_y)\n"
      ],
      "metadata": {
        "id": "BSPOeCMS-UX2"
      },
      "execution_count": null,
      "outputs": []
    },
    {
      "cell_type": "code",
      "source": [
        "data_loader = ECG_Classification(X_train, y_train, batch_size=32)               \n",
        "data_loader.__len__()"
      ],
      "metadata": {
        "colab": {
          "base_uri": "https://localhost:8080/"
        },
        "id": "GGlJZBH6kerN",
        "outputId": "5e8152a7-2e88-44ae-9c00-e259fc14f9d5"
      },
      "execution_count": null,
      "outputs": [
        {
          "output_type": "execute_result",
          "data": {
            "text/plain": [
              "36"
            ]
          },
          "metadata": {},
          "execution_count": 73
        }
      ]
    },
    {
      "cell_type": "code",
      "source": [
        "input_batch, labels =  data_loader[34]\n",
        "print(\"Input Batch Shape: \", input_batch.shape)\n",
        "print(\"labels Batch shape: \", labels.shape)\n"
      ],
      "metadata": {
        "colab": {
          "base_uri": "https://localhost:8080/"
        },
        "id": "HhEd5ecVkmMV",
        "outputId": "2f698bab-9c00-400d-8d77-2fe05f3a3bea"
      },
      "execution_count": null,
      "outputs": [
        {
          "output_type": "stream",
          "name": "stdout",
          "text": [
            "Input Batch Shape:  (32, 500, 500, 3)\n",
            "labels Batch shape:  (32,)\n"
          ]
        }
      ]
    },
    {
      "cell_type": "code",
      "source": [
        "plt.imshow(input_batch[2])\n",
        "for i in range(10):\n",
        "  print(\"uniques in input image: \", len(np.unique(input_batch[i])))"
      ],
      "metadata": {
        "colab": {
          "base_uri": "https://localhost:8080/",
          "height": 443
        },
        "id": "U33WYrh9-WNw",
        "outputId": "9949bb12-98fb-4d19-9b96-650264cb01c6"
      },
      "execution_count": null,
      "outputs": [
        {
          "output_type": "stream",
          "name": "stdout",
          "text": [
            "uniques in input image:  372722\n",
            "uniques in input image:  349941\n",
            "uniques in input image:  372672\n",
            "uniques in input image:  373450\n",
            "uniques in input image:  345533\n",
            "uniques in input image:  371703\n",
            "uniques in input image:  345695\n",
            "uniques in input image:  372164\n",
            "uniques in input image:  266510\n",
            "uniques in input image:  406058\n"
          ]
        },
        {
          "output_type": "display_data",
          "data": {
            "text/plain": [
              "<Figure size 432x288 with 1 Axes>"
            ],
            "image/png": "[encoded data removed]"
          },
          "metadata": {
            "needs_background": "light"
          }
        }
      ]
    },
    {
      "cell_type": "code",
      "source": [
        "\n",
        "# images, labels = data_loader[43]\n",
        "# print(images.shape)\n",
        "# print(\"images uniques: \", np.unique(images[0]))\n",
        "# print(\"length of images uniques: \", len(np.unique(images[0])))\n",
        "\n",
        "# print(\"image shape: \", images[0].shape)\n",
        "# plt.imshow(images[0])\n",
        "\n",
        "# for image in images:\n",
        "#   print(len(np.unique(image)))\n",
        "# print(labels)\n"
      ],
      "metadata": {
        "id": "UcNhEVLM5fz6"
      },
      "execution_count": null,
      "outputs": []
    },
    {
      "cell_type": "code",
      "source": [
        "# from keras.utils.np_utils import to_categorical  \n",
        "# LABELS = to_categorical(LABELS,num_classes =2)\n",
        "# print(LABELS)"
      ],
      "metadata": {
        "id": "jIrDPLexwb2z"
      },
      "execution_count": null,
      "outputs": []
    },
    {
      "cell_type": "code",
      "source": [
        "# data_loader.__len__()"
      ],
      "metadata": {
        "colab": {
          "base_uri": "https://localhost:8080/"
        },
        "id": "Go96VT6sSJWN",
        "outputId": "c4470f54-94dc-4fd4-b940-51a12ae0a173"
      },
      "execution_count": null,
      "outputs": [
        {
          "output_type": "execute_result",
          "data": {
            "text/plain": [
              "44"
            ]
          },
          "metadata": {},
          "execution_count": 15
        }
      ]
    },
    {
      "cell_type": "markdown",
      "source": [
        "##Model Architecture, compiling, and Training"
      ],
      "metadata": {
        "id": "d7AZ9ppYTfOC"
      }
    },
    {
      "cell_type": "code",
      "execution_count": null,
      "metadata": {
        "id": "ENIzQNHBMZ9x"
      },
      "outputs": [],
      "source": [
        "def MODEL():\n",
        "  input_shape = (IMG_SIZE, IMG_SIZE, 3)\n",
        "  model = models.Sequential(\n",
        "      [\n",
        "\n",
        "                  layers.Conv2D(32, (3,3),activation='relu', input_shape=input_shape),\n",
        "                  layers.MaxPool2D((2,2)),\n",
        "\n",
        "                  layers.Conv2D(64, (3,3), activation='relu'),\n",
        "                  layers.MaxPool2D((2,2)),\n",
        "\n",
        "                  layers.Conv2D(64, (3,3), activation='relu'),\n",
        "                  layers.MaxPool2D((2,2)),\n",
        "\n",
        "                  layers.Conv2D(64, (3,3), activation='relu'),\n",
        "                  layers.MaxPool2D((2,2)),\n",
        "\n",
        "                  layers.Conv2D(64, (3,3), activation='relu'),\n",
        "                  layers.MaxPool2D((2,2)),\n",
        "\n",
        "                  layers.Flatten(),\n",
        "                  layers.Dense(64, activation='relu'),\n",
        "                  layers.Dense(1, activation='sigmoid')\n",
        "\n",
        "      ]\n",
        "    )\n",
        "  return model"
      ]
    },
    {
      "cell_type": "code",
      "execution_count": null,
      "metadata": {
        "colab": {
          "base_uri": "https://localhost:8080/"
        },
        "id": "1SG3eyHfNOPL",
        "outputId": "f86a5d93-3da5-4ffc-dfc3-a22cc5c5f1e2"
      },
      "outputs": [
        {
          "output_type": "stream",
          "name": "stdout",
          "text": [
            "36\n",
            "Model: \"sequential_2\"\n",
            "_________________________________________________________________\n",
            " Layer (type)                Output Shape              Param #   \n",
            "=================================================================\n",
            " conv2d_10 (Conv2D)          (None, 498, 498, 32)      896       \n",
            "                                                                 \n",
            " max_pooling2d_10 (MaxPoolin  (None, 249, 249, 32)     0         \n",
            " g2D)                                                            \n",
            "                                                                 \n",
            " conv2d_11 (Conv2D)          (None, 247, 247, 64)      18496     \n",
            "                                                                 \n",
            " max_pooling2d_11 (MaxPoolin  (None, 123, 123, 64)     0         \n",
            " g2D)                                                            \n",
            "                                                                 \n",
            " conv2d_12 (Conv2D)          (None, 121, 121, 64)      36928     \n",
            "                                                                 \n",
            " max_pooling2d_12 (MaxPoolin  (None, 60, 60, 64)       0         \n",
            " g2D)                                                            \n",
            "                                                                 \n",
            " conv2d_13 (Conv2D)          (None, 58, 58, 64)        36928     \n",
            "                                                                 \n",
            " max_pooling2d_13 (MaxPoolin  (None, 29, 29, 64)       0         \n",
            " g2D)                                                            \n",
            "                                                                 \n",
            " conv2d_14 (Conv2D)          (None, 27, 27, 64)        36928     \n",
            "                                                                 \n",
            " max_pooling2d_14 (MaxPoolin  (None, 13, 13, 64)       0         \n",
            " g2D)                                                            \n",
            "                                                                 \n",
            " flatten_2 (Flatten)         (None, 10816)             0         \n",
            "                                                                 \n",
            " dense_4 (Dense)             (None, 64)                692288    \n",
            "                                                                 \n",
            " dense_5 (Dense)             (None, 1)                 65        \n",
            "                                                                 \n",
            "=================================================================\n",
            "Total params: 822,529\n",
            "Trainable params: 822,529\n",
            "Non-trainable params: 0\n",
            "_________________________________________________________________\n"
          ]
        }
      ],
      "source": [
        "data_loader = ECG_Classification(X_train, y_train, batch_size=32)\n",
        "print(data_loader.__len__())\n",
        "model = MODEL()\n",
        "model.summary()"
      ]
    },
    {
      "cell_type": "code",
      "execution_count": null,
      "metadata": {
        "id": "VGRXoC1fNdfD"
      },
      "outputs": [],
      "source": [
        "model.compile(\n",
        "    optimizer=tf.keras.optimizers.Adam(learning_rate=1e-3),\n",
        "    loss=tf.keras.losses.BinaryCrossentropy(from_logits=True),\n",
        "    metrics=['accuracy']\n",
        "             )\n"
      ]
    },
    {
      "cell_type": "code",
      "source": [
        "history = model.fit(\n",
        "    data_loader, \n",
        "    epochs=25,\n",
        "    # use_multiprocessing = True\n",
        "    # workers = 1\n",
        "    )\n"
      ],
      "metadata": {
        "id": "nTqAcmfZ3KIg",
        "colab": {
          "base_uri": "https://localhost:8080/"
        },
        "outputId": "217e81af-7fb6-45c5-f938-1ac9cd87bf46"
      },
      "execution_count": null,
      "outputs": [
        {
          "output_type": "stream",
          "name": "stdout",
          "text": [
            "Epoch 1/25\n",
            "36/36 [==============================] - 89s 2s/step - loss: 0.2877 - accuracy: 0.8852\n",
            "Epoch 2/25\n",
            "36/36 [==============================] - 89s 2s/step - loss: 0.2781 - accuracy: 0.8906\n",
            "Epoch 3/25\n",
            "36/36 [==============================] - 89s 2s/step - loss: 0.2600 - accuracy: 0.9021\n",
            "Epoch 4/25\n",
            "36/36 [==============================] - 89s 2s/step - loss: 0.2405 - accuracy: 0.8950\n",
            "Epoch 5/25\n",
            "36/36 [==============================] - 89s 2s/step - loss: 0.2142 - accuracy: 0.9146\n",
            "Epoch 6/25\n",
            "36/36 [==============================] - 89s 2s/step - loss: 0.1954 - accuracy: 0.9119\n",
            "Epoch 7/25\n",
            "36/36 [==============================] - 89s 2s/step - loss: 0.1425 - accuracy: 0.9404\n",
            "Epoch 8/25\n",
            "36/36 [==============================] - 89s 2s/step - loss: 0.1139 - accuracy: 0.9520\n",
            "Epoch 9/25\n",
            "36/36 [==============================] - 89s 2s/step - loss: 0.1054 - accuracy: 0.9635\n",
            "Epoch 10/25\n",
            "36/36 [==============================] - 89s 2s/step - loss: 0.0828 - accuracy: 0.9706\n",
            "Epoch 11/25\n",
            "36/36 [==============================] - 89s 2s/step - loss: 0.0473 - accuracy: 0.9849\n",
            "Epoch 12/25\n",
            "36/36 [==============================] - 89s 2s/step - loss: 0.0228 - accuracy: 0.9920\n",
            "Epoch 13/25\n",
            "36/36 [==============================] - 89s 2s/step - loss: 0.0163 - accuracy: 0.9947\n",
            "Epoch 14/25\n",
            "36/36 [==============================] - 88s 2s/step - loss: 0.0100 - accuracy: 0.9973\n",
            "Epoch 15/25\n",
            "36/36 [==============================] - 89s 2s/step - loss: 0.0171 - accuracy: 0.9947\n",
            "Epoch 16/25\n",
            "36/36 [==============================] - 89s 2s/step - loss: 0.0207 - accuracy: 0.9947\n",
            "Epoch 17/25\n",
            "36/36 [==============================] - 88s 2s/step - loss: 0.0261 - accuracy: 0.9867\n",
            "Epoch 18/25\n",
            "36/36 [==============================] - 89s 2s/step - loss: 0.0135 - accuracy: 0.9947\n",
            "Epoch 19/25\n",
            "36/36 [==============================] - 89s 2s/step - loss: 0.0064 - accuracy: 0.9982\n",
            "Epoch 20/25\n",
            "36/36 [==============================] - 89s 2s/step - loss: 0.0013 - accuracy: 1.0000\n",
            "Epoch 21/25\n",
            "36/36 [==============================] - 89s 2s/step - loss: 1.2806e-04 - accuracy: 1.0000\n",
            "Epoch 22/25\n",
            "36/36 [==============================] - 88s 2s/step - loss: 8.9145e-05 - accuracy: 1.0000\n",
            "Epoch 23/25\n",
            "36/36 [==============================] - 89s 2s/step - loss: 7.0856e-05 - accuracy: 1.0000\n",
            "Epoch 24/25\n",
            "36/36 [==============================] - 89s 2s/step - loss: 6.0373e-05 - accuracy: 1.0000\n",
            "Epoch 25/25\n",
            "36/36 [==============================] - 90s 2s/step - loss: 5.3522e-05 - accuracy: 1.0000\n"
          ]
        }
      ]
    },
    {
      "cell_type": "code",
      "source": [
        "model_history = history.history\n",
        "model_history.keys()"
      ],
      "metadata": {
        "colab": {
          "base_uri": "https://localhost:8080/"
        },
        "id": "lnL3KuyfUlaW",
        "outputId": "3ea1453c-3747-4bc2-e8ff-8267b93a9b04"
      },
      "execution_count": null,
      "outputs": [
        {
          "output_type": "execute_result",
          "data": {
            "text/plain": [
              "dict_keys(['loss', 'accuracy'])"
            ]
          },
          "metadata": {},
          "execution_count": 86
        }
      ]
    },
    {
      "cell_type": "code",
      "source": [
        "plt.figure(figsize=(15,5))\n",
        "plt.plot(model_history['accuracy'])\n",
        "plt.title(\"training accuracy\")"
      ],
      "metadata": {
        "colab": {
          "base_uri": "https://localhost:8080/",
          "height": 353
        },
        "id": "Ag_Z2ezQhRg2",
        "outputId": "fb7cf8ec-2dab-4234-930b-0deb30789989"
      },
      "execution_count": null,
      "outputs": [
        {
          "output_type": "execute_result",
          "data": {
            "text/plain": [
              "Text(0.5, 1.0, 'training accuracy')"
            ]
          },
          "metadata": {},
          "execution_count": 89
        },
        {
          "output_type": "display_data",
          "data": {
            "text/plain": [
              "<Figure size 1080x360 with 1 Axes>"
            ],
            "image/png": "[encoded data removed]"
          },
          "metadata": {
            "needs_background": "light"
          }
        }
      ]
    },
    {
      "cell_type": "code",
      "source": [
        "plt.figure(figsize=(15,5))\n",
        "plt.plot(model_history['loss'])\n",
        "plt.title(\"training Loss\")"
      ],
      "metadata": {
        "colab": {
          "base_uri": "https://localhost:8080/",
          "height": 353
        },
        "id": "t4HCJJo_hW6x",
        "outputId": "b3e2aa8f-9324-4e9c-831d-04cf6cc77b72"
      },
      "execution_count": null,
      "outputs": [
        {
          "output_type": "execute_result",
          "data": {
            "text/plain": [
              "Text(0.5, 1.0, 'training Loss')"
            ]
          },
          "metadata": {},
          "execution_count": 90
        },
        {
          "output_type": "display_data",
          "data": {
            "text/plain": [
              "<Figure size 1080x360 with 1 Axes>"
            ],
            "image/png": "[encoded data removed]"
          },
          "metadata": {
            "needs_background": "light"
          }
        }
      ]
    },
    {
      "cell_type": "markdown",
      "source": [
        "##Test dataloader"
      ],
      "metadata": {
        "id": "KuIGcXbu5hjt"
      }
    },
    {
      "cell_type": "code",
      "source": [
        "data_loader = ECG_Classification(X_test, y_test, batch_size=32)               \n",
        "data_loader.__len__()"
      ],
      "metadata": {
        "id": "OcVkkPOlhcEv",
        "colab": {
          "base_uri": "https://localhost:8080/"
        },
        "outputId": "fa105eb9-19c2-429b-e670-36a62f0b9967"
      },
      "execution_count": null,
      "outputs": [
        {
          "output_type": "execute_result",
          "data": {
            "text/plain": [
              "9"
            ]
          },
          "metadata": {},
          "execution_count": 93
        }
      ]
    },
    {
      "cell_type": "code",
      "source": [
        "test_batch, actual_labels = data_loader[8]\n",
        "test_batch.shape\n",
        "\n",
        "actual_labels.shape"
      ],
      "metadata": {
        "colab": {
          "base_uri": "https://localhost:8080/"
        },
        "id": "bIVxexdr5rdw",
        "outputId": "6d7b1382-14f9-48f9-d474-7a4c60f6a229"
      },
      "execution_count": null,
      "outputs": [
        {
          "output_type": "execute_result",
          "data": {
            "text/plain": [
              "(25,)"
            ]
          },
          "metadata": {},
          "execution_count": 140
        }
      ]
    },
    {
      "cell_type": "code",
      "source": [
        "np.unique(test_batch[0])"
      ],
      "metadata": {
        "colab": {
          "base_uri": "https://localhost:8080/"
        },
        "id": "1-qTHZ_P7DtQ",
        "outputId": "c9b0b307-8a59-45f8-8459-c63659626257"
      },
      "execution_count": null,
      "outputs": [
        {
          "output_type": "execute_result",
          "data": {
            "text/plain": [
              "array([0.0000000e+00, 2.1434298e-06, 3.7596069e-06, ..., 9.9999964e-01,\n",
              "       9.9999982e-01, 1.0000000e+00], dtype=float32)"
            ]
          },
          "metadata": {},
          "execution_count": 132
        }
      ]
    },
    {
      "cell_type": "code",
      "source": [
        "def model_output_processing(y_pred):\n",
        "  y_hat = []\n",
        "  for res in y_pred:\n",
        "    if res<0.5:\n",
        "      y_hat.append(0)\n",
        "    else:\n",
        "      y_hat.append(1)\n",
        "  return np.array(y_hat)\n",
        "\n",
        "y_pred = model.predict(test_batch, batch_size=32)\n",
        "y_pred = model_output_processing(y_pred.reshape(-1,))\n",
        "print(y_pred)"
      ],
      "metadata": {
        "colab": {
          "base_uri": "https://localhost:8080/"
        },
        "id": "u372qoVE5uBw",
        "outputId": "89a2d0a9-6c49-4613-e416-3c4d3722833b"
      },
      "execution_count": null,
      "outputs": [
        {
          "output_type": "stream",
          "name": "stdout",
          "text": [
            "[1 1 1 0 1 0 1 1 0 0 1 1 1 1 0 1 1 0 0 1 0 0 1 1 1 1 1 1 1 1 1 1]\n"
          ]
        }
      ]
    },
    {
      "cell_type": "code",
      "source": [
        "test_batch.shape"
      ],
      "metadata": {
        "colab": {
          "base_uri": "https://localhost:8080/"
        },
        "id": "ewK162EN9fFA",
        "outputId": "006e3c46-e45b-4585-b92d-eed5a28e5bf0"
      },
      "execution_count": null,
      "outputs": [
        {
          "output_type": "execute_result",
          "data": {
            "text/plain": [
              "(32, 500, 500, 3)"
            ]
          },
          "metadata": {},
          "execution_count": 134
        }
      ]
    },
    {
      "cell_type": "code",
      "source": [
        "eval = model.evaluate(test_batch, \n",
        "               labels\n",
        "               )\n",
        "type(eval)"
      ],
      "metadata": {
        "colab": {
          "base_uri": "https://localhost:8080/"
        },
        "id": "4czGjzF98Nnh",
        "outputId": "052c8bd5-053e-4485-fa16-27c4850da73b"
      },
      "execution_count": null,
      "outputs": [
        {
          "output_type": "stream",
          "name": "stdout",
          "text": [
            "1/1 [==============================] - 0s 228ms/step - loss: 0.4255 - accuracy: 0.9375\n"
          ]
        },
        {
          "output_type": "execute_result",
          "data": {
            "text/plain": [
              "list"
            ]
          },
          "metadata": {},
          "execution_count": 136
        }
      ]
    },
    {
      "cell_type": "code",
      "source": [
        "testing_accuarcy = eval[1]\n",
        "testing_accuarcy"
      ],
      "metadata": {
        "colab": {
          "base_uri": "https://localhost:8080/"
        },
        "id": "PtXHlBVa-VxY",
        "outputId": "04d10f54-f40b-4d02-b074-eb65bb79d81d"
      },
      "execution_count": null,
      "outputs": [
        {
          "output_type": "execute_result",
          "data": {
            "text/plain": [
              "0.9375"
            ]
          },
          "metadata": {},
          "execution_count": 138
        }
      ]
    },
    {
      "cell_type": "markdown",
      "source": [
        "##evaluating all the test batches"
      ],
      "metadata": {
        "id": "iPZ_nAQM_fXI"
      }
    },
    {
      "cell_type": "code",
      "source": [
        "def evaluate_test_batches(data_loader):\n",
        "  acc = []\n",
        "  for index in range(0,data_loader.__len__()):\n",
        "    print(\"Index: \",index)\n",
        "    test_batch, actual_labels = data_loader[index]\n",
        "    print(test_batch.shape)\n",
        "    print(actual_labels.shape)\n",
        "    eval = model.evaluate(test_batch, actual_labels)\n",
        "    acc.append(eval[1])\n",
        "  return acc\n",
        "eval_acc = evaluate_test_batches(data_loader)"
      ],
      "metadata": {
        "colab": {
          "base_uri": "https://localhost:8080/"
        },
        "id": "uGOIw0Q__Vbj",
        "outputId": "81dd1061-3b3e-4457-ce7a-212b7fad07a6"
      },
      "execution_count": null,
      "outputs": [
        {
          "output_type": "stream",
          "name": "stdout",
          "text": [
            "Index:  0\n",
            "(32, 500, 500, 3)\n",
            "(32,)\n",
            "1/1 [==============================] - 0s 197ms/step - loss: 0.0025 - accuracy: 1.0000\n",
            "Index:  1\n",
            "(32, 500, 500, 3)\n",
            "(32,)\n",
            "1/1 [==============================] - 0s 200ms/step - loss: 1.8310 - accuracy: 0.8750\n",
            "Index:  2\n",
            "(32, 500, 500, 3)\n",
            "(32,)\n",
            "1/1 [==============================] - 0s 195ms/step - loss: 0.6439 - accuracy: 0.8438\n",
            "Index:  3\n",
            "(32, 500, 500, 3)\n",
            "(32,)\n",
            "1/1 [==============================] - 0s 191ms/step - loss: 0.9339 - accuracy: 0.8125\n",
            "Index:  4\n",
            "(32, 500, 500, 3)\n",
            "(32,)\n",
            "1/1 [==============================] - 0s 168ms/step - loss: 1.1797 - accuracy: 0.8438\n",
            "Index:  5\n",
            "(32, 500, 500, 3)\n",
            "(32,)\n",
            "1/1 [==============================] - 0s 169ms/step - loss: 0.4174 - accuracy: 0.9375\n",
            "Index:  6\n",
            "(32, 500, 500, 3)\n",
            "(32,)\n",
            "1/1 [==============================] - 0s 166ms/step - loss: 0.4255 - accuracy: 0.9375\n",
            "Index:  7\n",
            "(32, 500, 500, 3)\n",
            "(32,)\n",
            "1/1 [==============================] - 0s 169ms/step - loss: 1.3672 - accuracy: 0.8438\n",
            "Index:  8\n",
            "(25, 500, 500, 3)\n",
            "(25,)\n"
          ]
        },
        {
          "output_type": "stream",
          "name": "stderr",
          "text": [
            "/usr/local/lib/python3.7/dist-packages/tensorflow/python/util/dispatch.py:1082: UserWarning: \"`binary_crossentropy` received `from_logits=True`, but the `output` argument was produced by a sigmoid or softmax activation and thus does not represent logits. Was this intended?\"\n",
            "  return dispatch_target(*args, **kwargs)\n"
          ]
        },
        {
          "output_type": "stream",
          "name": "stdout",
          "text": [
            "1/1 [==============================] - 0s 269ms/step - loss: 1.8023 - accuracy: 0.8400\n"
          ]
        }
      ]
    },
    {
      "cell_type": "code",
      "source": [
        "eval_acc"
      ],
      "metadata": {
        "colab": {
          "base_uri": "https://localhost:8080/"
        },
        "id": "dijBjHL0_1Ol",
        "outputId": "ecb8253c-1613-495f-f2e5-c52013b5b074"
      },
      "execution_count": null,
      "outputs": [
        {
          "output_type": "execute_result",
          "data": {
            "text/plain": [
              "[1.0,\n",
              " 0.875,\n",
              " 0.84375,\n",
              " 0.8125,\n",
              " 0.84375,\n",
              " 0.9375,\n",
              " 0.9375,\n",
              " 0.84375,\n",
              " 0.8399999737739563]"
            ]
          },
          "metadata": {},
          "execution_count": 146
        }
      ]
    },
    {
      "cell_type": "markdown",
      "source": [
        "**Issues Facing while making custom Data generator**<br>\n",
        "\n",
        "1. Accuracy and loss were not improving due to following reasons. <br>\n",
        "   a. Not shuffle the path of images and labels before passing to the Data Genertor.<br>\n",
        "   b. Didn't Normalize the data.<br>\n"
      ],
      "metadata": {
        "id": "AXB7iCK-D2RY"
      }
    },
    {
      "cell_type": "code",
      "source": [
        ""
      ],
      "metadata": {
        "id": "X6yfn-aMD7Es"
      },
      "execution_count": null,
      "outputs": []
    }
  ],
  "metadata": {
    "accelerator": "GPU",
    "colab": {
      "collapsed_sections": [],
      "name": "Custom_DataLoader_For_ECG_Classification.ipynb",
      "provenance": []
    },
    "kernelspec": {
      "display_name": "Python 3",
      "name": "python3"
    },
    "language_info": {
      "name": "python"
    }
  },
  "nbformat": 4,
  "nbformat_minor": 0
}